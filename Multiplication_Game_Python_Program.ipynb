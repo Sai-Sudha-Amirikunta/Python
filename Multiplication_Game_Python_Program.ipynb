{
 "cells": [
  {
   "cell_type": "markdown",
   "metadata": {},
   "source": [
    "**Question** \n",
    "\n",
    "Write a multiplication game program for kids. The program should give the player ten randomly generated multiplication questions to do. After each, the program should tell them whether they got it right or wrong and what the correct answer is and finally it should display the total score out of 10 scored by user."
   ]
  },
  {
   "cell_type": "code",
   "execution_count": 1,
   "metadata": {},
   "outputs": [
    {
     "name": "stdout",
     "output_type": "stream",
     "text": [
      "18 * 15 =\n",
      "enter the answer:260\n",
      "Wrong. The answer is: 270\n",
      "\n",
      "6 * 16 =\n",
      "enter the answer:96\n",
      "Right!\n",
      "\n",
      "20 * 11 =\n",
      "enter the answer:220\n",
      "Right!\n",
      "\n",
      "12 * 19 =\n",
      "enter the answer:226\n",
      "Wrong. The answer is: 228\n",
      "\n",
      "12 * 12 =\n",
      "enter the answer:144\n",
      "Right!\n",
      "\n",
      "18 * 10 =\n",
      "enter the answer:180\n",
      "Right!\n",
      "\n",
      "9 * 9 =\n",
      "enter the answer:81\n",
      "Right!\n",
      "\n",
      "16 * 11 =\n",
      "enter the answer:176\n",
      "Right!\n",
      "\n",
      "20 * 9 =\n",
      "enter the answer:180\n",
      "Right!\n",
      "\n",
      "1 * 10 =\n",
      "enter the answer:10\n",
      "Right!\n",
      "\n",
      "Your Score is: 8 out of 10\n"
     ]
    }
   ],
   "source": [
    "import random \n",
    "\n",
    "score = []\n",
    "for i in range(1,11):\n",
    "    n = random.randrange(1,21)\n",
    "    a = random.randrange(1,21)\n",
    "    m=n*a\n",
    "    print(n,'*',a,'=')\n",
    "    b = int(input('enter the answer:'))\n",
    "    \n",
    "    if b==m:\n",
    "        print('Right!')\n",
    "        score.append(b)\n",
    "    else:\n",
    "        print('Wrong. The answer is:',m)\n",
    "    print()\n",
    "    \n",
    "    \n",
    "print('Your Score is:',len(score),'out of 10')   "
   ]
  }
 ],
 "metadata": {
  "kernelspec": {
   "display_name": "Python 3",
   "language": "python",
   "name": "python3"
  },
  "language_info": {
   "codemirror_mode": {
    "name": "ipython",
    "version": 3
   },
   "file_extension": ".py",
   "mimetype": "text/x-python",
   "name": "python",
   "nbconvert_exporter": "python",
   "pygments_lexer": "ipython3",
   "version": "3.7.3"
  }
 },
 "nbformat": 4,
 "nbformat_minor": 2
}
